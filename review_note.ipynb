{
 "cells": [
  {
   "cell_type": "markdown",
   "metadata": {},
   "source": [
    "### IMPORT STATEMENT\n",
    "For cell 1, 2, 5"
   ]
  },
  {
   "cell_type": "code",
   "execution_count": 5,
   "metadata": {},
   "outputs": [],
   "source": [
    "'''\n",
    "    Import statements should always be put at the top of the file\n",
    "    \n",
    "    Should be grouped in the following order:\n",
    "\n",
    "        1. Standard library: https://docs.python.org/3/library/\n",
    "        2. Related third party imports.\n",
    "        3. Local application/library specific imports.\n",
    "\n",
    "    Should put a blank line between each group.\n",
    "\n",
    "'''\n",
    "\n",
    "import os\n",
    "import random\n",
    "\n",
    "import numpy as np\n",
    "import matplotlib.pyplot as plt\n",
    "import torch\n",
    "import torch.nn as nn\n",
    "import tensorflow as tf\n",
    "from keras import optimizers\n",
    "from keras.layers import Conv2D, MaxPooling2D\n",
    "from keras.layers import Activation, Dropout, Flatten\n",
    "from sklearn.metrics import confusion_matrix, f1_score\n",
    "\n",
    "from utils import my_func"
   ]
  },
  {
   "cell_type": "code",
   "execution_count": 6,
   "metadata": {},
   "outputs": [],
   "source": [
    "'''\n",
    "    Use newline when there are too many things to import from a package.\n",
    "    Good for viewing in Git and pointing out modification.\n",
    "\n",
    "'''\n",
    "# Not recommended\n",
    "from sklearn.metrics import confusion_matrix, f1_score, precision_score, recall_score, classification_report\n",
    "\n",
    "# Recommended\n",
    "from sklearn.metrics import (\n",
    "    confusion_matrix,\n",
    "    f1_score,\n",
    "    precision_score,\n",
    "    recall_score,\n",
    "    classification_report,\n",
    ")"
   ]
  },
  {
   "cell_type": "markdown",
   "metadata": {},
   "source": [
    "### Constant\n",
    "For cell 3"
   ]
  },
  {
   "cell_type": "code",
   "execution_count": null,
   "metadata": {},
   "outputs": [],
   "source": [
    "'''\n",
    "    Use constant (all capital letters) when possible\n",
    "    \n",
    "    Recommend when variable does not change its value during execution\n",
    "\n",
    "'''\n",
    "\n",
    "TRAIN_DATA_DIR = '../20200828/train/2_classes_noise_rm_good_more_blur'\n",
    "EPOCHS = 50\n",
    "BATCH_SIZE = 20\n",
    "CLASS_MODE = 'categorical'"
   ]
  },
  {
   "cell_type": "markdown",
   "metadata": {},
   "source": [
    "### Blank lines\n",
    "For cell 19"
   ]
  },
  {
   "cell_type": "code",
   "execution_count": null,
   "metadata": {},
   "outputs": [],
   "source": [
    "'''\n",
    "    Separate top-level functions and classes with two blank lines\n",
    "    \n",
    "    Separate method definitions inside classes with a single blank line\n",
    "\n",
    "'''\n",
    "\n",
    "class MyFirstClass:\n",
    "    def first_method(self):\n",
    "        pass\n",
    "\n",
    "    def second_method(self):\n",
    "        pass\n",
    "\n",
    "\n",
    "class MySecondClass:\n",
    "    pass\n",
    "\n",
    "\n",
    "def top_level_function():\n",
    "    return None"
   ]
  },
  {
   "cell_type": "markdown",
   "metadata": {},
   "source": [
    "### Line length\n",
    "For cell 20, 21, 23, 24"
   ]
  },
  {
   "cell_type": "code",
   "execution_count": null,
   "metadata": {},
   "outputs": [],
   "source": [
    "# Not recommended\n",
    "var_1, var_2, _var_3 = my_function(argument_one, argument_two, argument_three, argument_four, argument_five, argument_six,)\n",
    "\n",
    "# Recommended\n",
    "var_1, var_2, _var_3 = my_function(\n",
    "    argument_one,\n",
    "    argument_two,\n",
    "    argument_three,\n",
    "    argument_four,\n",
    "    argument_five,\n",
    "    argument_six,\n",
    ")\n",
    "\n",
    "''' Line up the closing brace with the first character of the line that starts the construct '''"
   ]
  },
  {
   "cell_type": "markdown",
   "metadata": {},
   "source": [
    "### Google Style Python Docstrings\n",
    "For cell 19"
   ]
  },
  {
   "cell_type": "code",
   "execution_count": null,
   "metadata": {},
   "outputs": [],
   "source": [
    "# https://sphinxcontrib-napoleon.readthedocs.io/en/latest/example_google.html\n",
    "\n",
    "def function(param1, param2):\n",
    "    '''Brief explanation about functionality\n",
    "\n",
    "    Some specifications about the function here\n",
    "\n",
    "    Args:\n",
    "        param1 (int): The first parameter.\n",
    "        param2 (str): The second parameter.\n",
    "\n",
    "    Returns:\n",
    "        bool: The return value. True for success, False otherwise.\n",
    "\n",
    "    '''"
   ]
  },
  {
   "cell_type": "markdown",
   "metadata": {},
   "source": [
    "### mypy"
   ]
  },
  {
   "cell_type": "code",
   "execution_count": 7,
   "metadata": {},
   "outputs": [],
   "source": [
    "# https://mypy.readthedocs.io/en/stable/cheat_sheet_py3.html\n",
    "# https://www.python.org/dev/peps/pep-0484/\n",
    "\n",
    "from typing import Dict\n",
    "\n",
    "x: int = 1\n",
    "x: float = 1.0\n",
    "x: bool = True\n",
    "x: str = \"test\"\n",
    "x: Dict[str, float] = {'field': 2.0}\n",
    "\n",
    "def foo(a: int, b: torch.Tensor, c: np.ndarray) -> bool:\n",
    "    # do something\n",
    "    return True"
   ]
  },
  {
   "cell_type": "markdown",
   "metadata": {},
   "source": [
    "### Whitespace"
   ]
  },
  {
   "cell_type": "code",
   "execution_count": null,
   "metadata": {},
   "outputs": [],
   "source": [
    "# Use whitespaces when assigning value\n",
    "rescale = 1.0/255\n",
    "\n",
    "# Leave 1 whitespace after comma\n",
    "a = [3, 4, 5]\n",
    "a = foo(b, c, d)\n",
    "\n",
    "# No whitespace when passing args\n",
    "foo(rescale=1.0/255)\n",
    "\n",
    "# whitespace when using type hints\n",
    "def foo(a: int = 1234,\n",
    "        b: float = 1.0,\n",
    "        c='haha',\n",
    "       ) -> bool:\n",
    "    # do something\n",
    "    return True"
   ]
  },
  {
   "cell_type": "markdown",
   "metadata": {},
   "source": [
    "### Positional arguments vs keyword arguments"
   ]
  },
  {
   "cell_type": "code",
   "execution_count": null,
   "metadata": {},
   "outputs": [],
   "source": [
    "'''\n",
    "    Positional arguments can sometimes be dangerous to use\n",
    "\n",
    "    Should prefer using keyword arguments\n",
    "    \n",
    "'''\n",
    "\n",
    "# Not recommended\n",
    "classification_report(train_true_classes, train_pred_classes)\n",
    "\n",
    "# Recommended\n",
    "classification_report(\n",
    "    y_true=train_true_classes,\n",
    "    y_pred=train_pred_classes,\n",
    ")"
   ]
  },
  {
   "cell_type": "markdown",
   "metadata": {},
   "source": [
    "### Print\n",
    "For cell 21"
   ]
  },
  {
   "cell_type": "code",
   "execution_count": 35,
   "metadata": {},
   "outputs": [
    {
     "name": "stdout",
     "output_type": "stream",
     "text": [
      "               Train          Valid          Public Test    Private Test   \n",
      "F1:            3.142          3.142          3.142          3.142          \n",
      "Precision:     3.142          3.142          3.142          3.142          \n",
      "Recall:        3.142          3.142          3.142          3.142          \n"
     ]
    }
   ],
   "source": [
    "value = 3.14159\n",
    "# 15 is the cell width\n",
    "# 3f is the number of decimals\n",
    "print('{:15}{:15}{:15}{:15}{:15}'.format('', 'Train', 'Valid', 'Public Test', 'Private Test'))\n",
    "print('{:15}{:<15.3f}{:<15.3f}{:<15.3f}{:<15.3f}'.format('F1:', value, value, value, value))\n",
    "print('{:15}{:<15.3f}{:<15.3f}{:<15.3f}{:<15.3f}'.format('Precision:', value, value, value, value))\n",
    "print('{:15}{:<15.3f}{:<15.3f}{:<15.3f}{:<15.3f}'.format('Recall:', value, value, value, value))"
   ]
  },
  {
   "cell_type": "code",
   "execution_count": null,
   "metadata": {},
   "outputs": [],
   "source": []
  }
 ],
 "metadata": {
  "kernelspec": {
   "display_name": "Python 3",
   "language": "python",
   "name": "python3"
  },
  "language_info": {
   "codemirror_mode": {
    "name": "ipython",
    "version": 3
   },
   "file_extension": ".py",
   "mimetype": "text/x-python",
   "name": "python",
   "nbconvert_exporter": "python",
   "pygments_lexer": "ipython3",
   "version": "3.7.6"
  }
 },
 "nbformat": 4,
 "nbformat_minor": 4
}
